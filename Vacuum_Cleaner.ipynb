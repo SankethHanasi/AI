{
  "nbformat": 4,
  "nbformat_minor": 0,
  "metadata": {
    "colab": {
      "provenance": [],
      "authorship_tag": "ABX9TyM65KMzd90kTwSyJViBPu4O",
      "include_colab_link": true
    },
    "kernelspec": {
      "name": "python3",
      "display_name": "Python 3"
    },
    "language_info": {
      "name": "python"
    }
  },
  "cells": [
    {
      "cell_type": "markdown",
      "metadata": {
        "id": "view-in-github",
        "colab_type": "text"
      },
      "source": [
        "<a href=\"https://colab.research.google.com/github/SankethHanasi/AI/blob/main/Vacuum_Cleaner.ipynb\" target=\"_parent\"><img src=\"https://colab.research.google.com/assets/colab-badge.svg\" alt=\"Open In Colab\"/></a>"
      ]
    },
    {
      "cell_type": "code",
      "execution_count": null,
      "metadata": {
        "colab": {
          "base_uri": "https://localhost:8080/"
        },
        "id": "WPN0S4TPEuEO",
        "outputId": "51f14301-46e6-45b0-d324-e63b41d7e3ce"
      },
      "outputs": [
        {
          "output_type": "stream",
          "name": "stdout",
          "text": [
            "Enter status of room 0 : 1\n",
            "Enter status of room 1 : 1\n",
            "Is room 0 still dirty : 1\n",
            "Is room 0 still dirty : 0\n",
            "Room 0 cleaned\n",
            "Moving to room 1\n",
            "Is room 1 still dirty : 1\n",
            "Is room 1 still dirty : 0\n",
            "Room 1 cleaned\n",
            "Moving to room 0\n",
            "All rooms are clean\n",
            "Total cost: 4\n"
          ]
        }
      ],
      "source": [
        "room=[]\n",
        "cost=0\n",
        "def vacuum_cleaner(status, location):\n",
        "    global cost\n",
        "    if room[0] == 0 and room[1] == 0:\n",
        "        print('All rooms are clean')\n",
        "        return\n",
        "    if status == 1:\n",
        "        room[location]==0\n",
        "        cost+=1\n",
        "        room[location]=(int(input('Is room '+ str(location) +' still dirty : ')))\n",
        "\n",
        "        if(room[location]==1):\n",
        "          return vacuum_cleaner(room[location], location)\n",
        "        else:\n",
        "          print('Room ' + str(location) + ' cleaned')\n",
        "    location= 1 if location==0 else 0\n",
        "    print('Moving to room '+str(location))\n",
        "    return vacuum_cleaner(room[location], location)\n",
        "\n",
        "room.append(int(input('Enter status of room 0 : ')))\n",
        "room.append(int(input('Enter status of room 1 : ')))\n",
        "vacuum_cleaner(room[0], 0)\n",
        "print('Total cost: ' + str(cost))"
      ]
    },
    {
      "cell_type": "code",
      "source": [
        "cost =0\n",
        "def vacuum_world(state, location):\n",
        "  global cost\n",
        "  if(state['A']==0 and state['B']==0):\n",
        "    print('All rooms are clean')\n",
        "    return\n",
        "\n",
        "  if state[location]==1:\n",
        "    state[location]=0\n",
        "    cost+=1\n",
        "    state[location]=(int(input('Is room '+ str(location) +' still dirty : ')))\n",
        "\n",
        "    if state[location]==1:\n",
        "      return vacuum_world(state, location)\n",
        "    else:\n",
        "      print('Room ' + str(location) + ' cleaned')\n",
        "\n",
        "  next_location='B' if location=='A' else 'A'\n",
        "  if state[next_location]==0:\n",
        "    state[next_location]=(int(input('Is room '+ str(next_location) +' dirty : ')))\n",
        "  print('Moving to room '+str(next_location))\n",
        "  return vacuum_world(state, next_location)\n",
        "\n",
        "state={}\n",
        "state['A']=int(input('Enter status of room A : '))\n",
        "state['B']=int(input('Enter status of room B : '))\n",
        "location=input('Enter initial location of vacuum (A/B) : ')\n",
        "vacuum_world(state,location)\n",
        "print('Total cost: ' + str(cost))"
      ],
      "metadata": {
        "colab": {
          "base_uri": "https://localhost:8080/"
        },
        "id": "EdbCryGh9snN",
        "outputId": "4d6cd118-e56a-456d-f47a-60c13611b1c0"
      },
      "execution_count": 5,
      "outputs": [
        {
          "output_type": "stream",
          "name": "stdout",
          "text": [
            "Enter status of room A : 1\n",
            "Enter status of room B : 1\n",
            "Enter initial location of vacuum (A/B) : A\n",
            "Is room A still dirty : 1\n",
            "Is room A still dirty : 1\n",
            "Is room A still dirty : 0\n",
            "Room A cleaned\n",
            "Moving to room B\n",
            "Is room B still dirty : 0\n",
            "Room B cleaned\n",
            "Is room A dirty : 1\n",
            "Moving to room A\n",
            "Is room A still dirty : 0\n",
            "Room A cleaned\n",
            "Is room B dirty : 0\n",
            "Moving to room B\n",
            "All rooms are clean\n",
            "Total cost: 5\n"
          ]
        }
      ]
    },
    {
      "cell_type": "code",
      "source": [],
      "metadata": {
        "id": "7zJI9KSxQmN0"
      },
      "execution_count": null,
      "outputs": []
    },
    {
      "cell_type": "code",
      "source": [],
      "metadata": {
        "id": "HVx3qXJgRnr2"
      },
      "execution_count": null,
      "outputs": []
    }
  ]
}