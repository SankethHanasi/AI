{
  "nbformat": 4,
  "nbformat_minor": 0,
  "metadata": {
    "colab": {
      "provenance": [],
      "authorship_tag": "ABX9TyOwWItj1HqMVL35KYJAXHxX",
      "include_colab_link": true
    },
    "kernelspec": {
      "name": "python3",
      "display_name": "Python 3"
    },
    "language_info": {
      "name": "python"
    }
  },
  "cells": [
    {
      "cell_type": "markdown",
      "metadata": {
        "id": "view-in-github",
        "colab_type": "text"
      },
      "source": [
        "<a href=\"https://colab.research.google.com/github/SankethHanasi/AI/blob/main/AI_LAB_1.ipynb\" target=\"_parent\"><img src=\"https://colab.research.google.com/assets/colab-badge.svg\" alt=\"Open In Colab\"/></a>"
      ]
    },
    {
      "cell_type": "code",
      "execution_count": null,
      "metadata": {
        "colab": {
          "base_uri": "https://localhost:8080/"
        },
        "id": "bJLpMvdNAMGY",
        "outputId": "36922ef5-ab13-4a8c-af8e-edb85a38acc7"
      },
      "outputs": [
        {
          "output_type": "stream",
          "name": "stdout",
          "text": [
            "[['-' '-' '-']\n",
            " ['-' '-' '-']\n",
            " ['-' '-' '-']]\n",
            "Enter row: 0\n",
            "Enter column: 1\n",
            "[['-' 'X' '-']\n",
            " ['-' '-' '-']\n",
            " ['-' '-' '-']]\n",
            "Enter row: 0\n",
            "Enter column: 0\n",
            "[['O' 'X' '-']\n",
            " ['-' '-' '-']\n",
            " ['-' '-' '-']]\n",
            "Enter row: 1\n",
            "Enter column: 0\n",
            "[['O' 'X' '-']\n",
            " ['X' '-' '-']\n",
            " ['-' '-' '-']]\n",
            "Enter row: 1\n",
            "Enter column: 1\n",
            "[['O' 'X' '-']\n",
            " ['X' 'O' '-']\n",
            " ['-' '-' '-']]\n",
            "Enter row: 1\n",
            "Enter column: 2\n",
            "[['O' 'X' '-']\n",
            " ['X' 'O' 'X']\n",
            " ['-' '-' '-']]\n",
            "Enter row: 2\n",
            "Enter column: 2\n",
            "[['O' 'X' '-']\n",
            " ['X' 'O' 'X']\n",
            " ['-' '-' 'O']]\n",
            "O wins\n"
          ]
        }
      ],
      "source": [
        "import numpy as np\n",
        "\n",
        "board=np.array([['-','-','-'],['-','-','-'],['-','-','-']])\n",
        "\n",
        "current_player='X'\n",
        "flag=0\n",
        "\n",
        "def check_win():\n",
        "    for i in range(3):\n",
        "        if board[i][0] == board[i][1] == board[i][2] != '-':\n",
        "            return True\n",
        "    for i in range(3):\n",
        "        if board[0][i] == board[1][i] == board[2][i] != '-':\n",
        "            return True\n",
        "    if board[0][0] == board[1][1] == board[2][2] != '-':\n",
        "        return True\n",
        "    if board[0][2] == board[1][1] == board[2][0] != '-':\n",
        "        return True\n",
        "    return False\n",
        "\n",
        "def tic_tac_toe():\n",
        "    n=0\n",
        "    print(board)\n",
        "    while n<9:\n",
        "        if n%2==0:\n",
        "            current_player='X'\n",
        "        else :\n",
        "            current_player='O'\n",
        "\n",
        "        row = int(input(\"Enter row: \"))\n",
        "        col = int(input(\"Enter column: \"))\n",
        "\n",
        "        if(board[row][col]=='-'):\n",
        "            board[row][col]=current_player\n",
        "            print(board)\n",
        "            flag=check_win();\n",
        "            if flag==1:\n",
        "                print(current_player+' wins')\n",
        "                break\n",
        "            else:\n",
        "                n=n+1\n",
        "        else :\n",
        "            print(\"Invalid Position\")\n",
        "\n",
        "    if n==9:\n",
        "        print(\"Draw\")\n",
        "\n",
        "tic_tac_toe()2\n",
        "\n",
        "\n"
      ]
    },
    {
      "cell_type": "code",
      "source": [
        "room=[]\n",
        "cost=0\n",
        "def vacuum_cleaner(status, location):\n",
        "    global cost\n",
        "    if room[0] == 0 and room[1] == 0:\n",
        "        print('All rooms are clean')\n",
        "        return\n",
        "    if status == 1:\n",
        "        room[location]==0\n",
        "        cost+=1\n",
        "        print('Cleaning room '+str(location))\n",
        "        r=(int(input('Is room '+ str(location) +' still dirty : ')))\n",
        "        room[location]=r\n",
        "        if(room[location]==1):\n",
        "            return vacuum_cleaner(room[location], location)\n",
        "        if(room[location]==0):\n",
        "          print('Room ' + str(location) + ' cleaned')\n",
        "    if location == 0:\n",
        "        location = 1\n",
        "        print('Moving to room ' + str(location))\n",
        "    elif location == 1:\n",
        "        location = 0\n",
        "        print('Moving to room ' +str(location))\n",
        "    return vacuum_cleaner(room[location], location)\n",
        "\n",
        "room.append(int(input('Enter status of room 0 : ')))\n",
        "room.append(int(input('Enter status of room 1 : ')))\n",
        "vacuum_cleaner(room[0], 0)\n",
        "print('Total cost: ' + str(cost))\n",
        "\n",
        "\n",
        "\n",
        "\n"
      ],
      "metadata": {
        "colab": {
          "base_uri": "https://localhost:8080/",
          "height": 356
        },
        "id": "ZBm-KBzwQZ4D",
        "outputId": "7ec43fa9-88b3-4c12-edf5-0e5aad11392b"
      },
      "execution_count": null,
      "outputs": [
        {
          "output_type": "error",
          "ename": "KeyboardInterrupt",
          "evalue": "Interrupted by user",
          "traceback": [
            "\u001b[0;31m---------------------------------------------------------------------------\u001b[0m",
            "\u001b[0;31mKeyboardInterrupt\u001b[0m                         Traceback (most recent call last)",
            "\u001b[0;32m<ipython-input-1-32c4585a4b23>\u001b[0m in \u001b[0;36m<cell line: 26>\u001b[0;34m()\u001b[0m\n\u001b[1;32m     24\u001b[0m     \u001b[0;32mreturn\u001b[0m \u001b[0mvacuum_cleaner\u001b[0m\u001b[0;34m(\u001b[0m\u001b[0mroom\u001b[0m\u001b[0;34m[\u001b[0m\u001b[0mlocation\u001b[0m\u001b[0;34m]\u001b[0m\u001b[0;34m,\u001b[0m \u001b[0mlocation\u001b[0m\u001b[0;34m)\u001b[0m\u001b[0;34m\u001b[0m\u001b[0;34m\u001b[0m\u001b[0m\n\u001b[1;32m     25\u001b[0m \u001b[0;34m\u001b[0m\u001b[0m\n\u001b[0;32m---> 26\u001b[0;31m \u001b[0mroom\u001b[0m\u001b[0;34m.\u001b[0m\u001b[0mappend\u001b[0m\u001b[0;34m(\u001b[0m\u001b[0mint\u001b[0m\u001b[0;34m(\u001b[0m\u001b[0minput\u001b[0m\u001b[0;34m(\u001b[0m\u001b[0;34m'Enter status of room 0 : '\u001b[0m\u001b[0;34m)\u001b[0m\u001b[0;34m)\u001b[0m\u001b[0;34m)\u001b[0m\u001b[0;34m\u001b[0m\u001b[0;34m\u001b[0m\u001b[0m\n\u001b[0m\u001b[1;32m     27\u001b[0m \u001b[0mroom\u001b[0m\u001b[0;34m.\u001b[0m\u001b[0mappend\u001b[0m\u001b[0;34m(\u001b[0m\u001b[0mint\u001b[0m\u001b[0;34m(\u001b[0m\u001b[0minput\u001b[0m\u001b[0;34m(\u001b[0m\u001b[0;34m'Enter status of room 1 : '\u001b[0m\u001b[0;34m)\u001b[0m\u001b[0;34m)\u001b[0m\u001b[0;34m)\u001b[0m\u001b[0;34m\u001b[0m\u001b[0;34m\u001b[0m\u001b[0m\n\u001b[1;32m     28\u001b[0m \u001b[0mvacuum_cleaner\u001b[0m\u001b[0;34m(\u001b[0m\u001b[0mroom\u001b[0m\u001b[0;34m[\u001b[0m\u001b[0;36m0\u001b[0m\u001b[0;34m]\u001b[0m\u001b[0;34m,\u001b[0m \u001b[0;36m0\u001b[0m\u001b[0;34m)\u001b[0m\u001b[0;34m\u001b[0m\u001b[0;34m\u001b[0m\u001b[0m\n",
            "\u001b[0;32m/usr/local/lib/python3.10/dist-packages/ipykernel/kernelbase.py\u001b[0m in \u001b[0;36mraw_input\u001b[0;34m(self, prompt)\u001b[0m\n\u001b[1;32m    849\u001b[0m                 \u001b[0;34m\"raw_input was called, but this frontend does not support input requests.\"\u001b[0m\u001b[0;34m\u001b[0m\u001b[0;34m\u001b[0m\u001b[0m\n\u001b[1;32m    850\u001b[0m             )\n\u001b[0;32m--> 851\u001b[0;31m         return self._input_request(str(prompt),\n\u001b[0m\u001b[1;32m    852\u001b[0m             \u001b[0mself\u001b[0m\u001b[0;34m.\u001b[0m\u001b[0m_parent_ident\u001b[0m\u001b[0;34m,\u001b[0m\u001b[0;34m\u001b[0m\u001b[0;34m\u001b[0m\u001b[0m\n\u001b[1;32m    853\u001b[0m             \u001b[0mself\u001b[0m\u001b[0;34m.\u001b[0m\u001b[0m_parent_header\u001b[0m\u001b[0;34m,\u001b[0m\u001b[0;34m\u001b[0m\u001b[0;34m\u001b[0m\u001b[0m\n",
            "\u001b[0;32m/usr/local/lib/python3.10/dist-packages/ipykernel/kernelbase.py\u001b[0m in \u001b[0;36m_input_request\u001b[0;34m(self, prompt, ident, parent, password)\u001b[0m\n\u001b[1;32m    893\u001b[0m             \u001b[0;32mexcept\u001b[0m \u001b[0mKeyboardInterrupt\u001b[0m\u001b[0;34m:\u001b[0m\u001b[0;34m\u001b[0m\u001b[0;34m\u001b[0m\u001b[0m\n\u001b[1;32m    894\u001b[0m                 \u001b[0;31m# re-raise KeyboardInterrupt, to truncate traceback\u001b[0m\u001b[0;34m\u001b[0m\u001b[0;34m\u001b[0m\u001b[0m\n\u001b[0;32m--> 895\u001b[0;31m                 \u001b[0;32mraise\u001b[0m \u001b[0mKeyboardInterrupt\u001b[0m\u001b[0;34m(\u001b[0m\u001b[0;34m\"Interrupted by user\"\u001b[0m\u001b[0;34m)\u001b[0m \u001b[0;32mfrom\u001b[0m \u001b[0;32mNone\u001b[0m\u001b[0;34m\u001b[0m\u001b[0;34m\u001b[0m\u001b[0m\n\u001b[0m\u001b[1;32m    896\u001b[0m             \u001b[0;32mexcept\u001b[0m \u001b[0mException\u001b[0m \u001b[0;32mas\u001b[0m \u001b[0me\u001b[0m\u001b[0;34m:\u001b[0m\u001b[0;34m\u001b[0m\u001b[0;34m\u001b[0m\u001b[0m\n\u001b[1;32m    897\u001b[0m                 \u001b[0mself\u001b[0m\u001b[0;34m.\u001b[0m\u001b[0mlog\u001b[0m\u001b[0;34m.\u001b[0m\u001b[0mwarning\u001b[0m\u001b[0;34m(\u001b[0m\u001b[0;34m\"Invalid Message:\"\u001b[0m\u001b[0;34m,\u001b[0m \u001b[0mexc_info\u001b[0m\u001b[0;34m=\u001b[0m\u001b[0;32mTrue\u001b[0m\u001b[0;34m)\u001b[0m\u001b[0;34m\u001b[0m\u001b[0;34m\u001b[0m\u001b[0m\n",
            "\u001b[0;31mKeyboardInterrupt\u001b[0m: Interrupted by user"
          ]
        }
      ]
    },
    {
      "cell_type": "code",
      "source": [],
      "metadata": {
        "id": "1VZL5uMadjjy"
      },
      "execution_count": null,
      "outputs": []
    }
  ]
}