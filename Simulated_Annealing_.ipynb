{
  "nbformat": 4,
  "nbformat_minor": 0,
  "metadata": {
    "colab": {
      "provenance": [],
      "authorship_tag": "ABX9TyPvYgS12mSAC433mJZjlqs+",
      "include_colab_link": true
    },
    "kernelspec": {
      "name": "python3",
      "display_name": "Python 3"
    },
    "language_info": {
      "name": "python"
    }
  },
  "cells": [
    {
      "cell_type": "markdown",
      "metadata": {
        "id": "view-in-github",
        "colab_type": "text"
      },
      "source": [
        "<a href=\"https://colab.research.google.com/github/SankethHanasi/AI/blob/main/Simulated_Annealing_.ipynb\" target=\"_parent\"><img src=\"https://colab.research.google.com/assets/colab-badge.svg\" alt=\"Open In Colab\"/></a>"
      ]
    },
    {
      "cell_type": "code",
      "source": [
        "#N-Queens using Simulated Annealing\n",
        "\n",
        "#!pip install mlrose-hiive joblib\n",
        "#!pip install --upgrade joblib\n",
        "#!pip install joblib==1.1.0\n",
        "import mlrose_hiive as mlrose\n",
        "import numpy as np\n",
        "\n",
        "def queens_max(position):\n",
        "    no_attack_on_j = 0\n",
        "    queen_not_attacking = 0\n",
        "    for i in range(len(position) - 1):\n",
        "        no_attack_on_j = 0\n",
        "        for j in range(i + 1, len(position)):\n",
        "            if (position[j] != position[i]) and (position[j] != position[i] + (j - i)) and (position[j] != position[i] - (j - i)):\n",
        "                no_attack_on_j += 1\n",
        "        if (no_attack_on_j == len(position) - 1 - i):\n",
        "            queen_not_attacking += 1\n",
        "    if (queen_not_attacking == 7):\n",
        "        queen_not_attacking += 1\n",
        "    return queen_not_attacking\n",
        "\n",
        "objective = mlrose.CustomFitness(queens_max)\n",
        "\n",
        "problem = mlrose.DiscreteOpt(length=8, fitness_fn=objective, maximize=True, max_val=8)\n",
        "T = mlrose.ExpDecay()\n",
        "\n",
        "initial_position = np.array([4, 6, 1, 5, 2, 0, 3, 7])\n",
        "\n",
        "#The simulated_annealing function returns 3 values, we need to capture all 3\n",
        "best_position, best_objective, fitness_curve = mlrose.simulated_annealing(problem=problem, schedule=T, max_attempts=500,\n",
        "                                                            init_state=initial_position)\n",
        "\n",
        "print('The best position found is:', best_position)\n",
        "print('The number of queens that are not attacking each other is:', best_objective)"
      ],
      "metadata": {
        "colab": {
          "base_uri": "https://localhost:8080/"
        },
        "id": "9DncR9cWYaxr",
        "outputId": "d4977c9e-bcd1-4767-e340-443b7f852fcf"
      },
      "execution_count": 1,
      "outputs": [
        {
          "output_type": "stream",
          "name": "stdout",
          "text": [
            "The best position found is: [4 0 7 5 2 6 1 3]\n",
            "The number of queens that are not attacking each other is: 8.0\n"
          ]
        }
      ]
    },
    {
      "cell_type": "code",
      "source": [
        "#Travelling Salesman Problem\n",
        "import mlrose_hiive as mlrose\n",
        "import numpy as np\n",
        "from scipy.spatial.distance import euclidean\n",
        "\n",
        "# Define the coordinates of the cities\n",
        "coords = [(0, 0), (1, 5), (2, 3), (5, 1), (6, 4), (7, 2)]\n",
        "\n",
        "# Calculate the distances between each pair of cities\n",
        "distances = []\n",
        "for i in range(len(coords)):\n",
        "    for j in range(i + 1, len(coords)):\n",
        "        dist = euclidean(coords[i], coords[j])\n",
        "        distances.append((i, j, dist))\n",
        "\n",
        "# Create a fitness function for the TSP using the distance matrix\n",
        "fitness_dists = mlrose.TravellingSales(distances=distances)\n",
        "\n",
        "# Define the optimization problem\n",
        "problem = mlrose.TSPOpt(length=len(coords), fitness_fn=fitness_dists, maximize=False)\n",
        "\n",
        "# Define the simulated annealing schedule\n",
        "schedule = mlrose.ExpDecay(init_temp=10, exp_const=0.005, min_temp=1)\n",
        "\n",
        "# Solve the problem using simulated annealing and print the result structure\n",
        "result = mlrose.simulated_annealing(problem, schedule=schedule, max_attempts=100, max_iters=1000, random_state=2)\n",
        "print(\"Result structure:\", result)\n",
        "\n",
        "# If the result is a tuple, unpack it accordingly\n",
        "if isinstance(result, tuple) and len(result) == 2:\n",
        "    best_state, best_fitness = result\n",
        "else:\n",
        "    best_state, best_fitness = result[0], result[1]\n",
        "\n",
        "# Display the results\n",
        "print(\"Best route found:\", best_state)\n",
        "print(\"Total distance of best route:\", best_fitness)"
      ],
      "metadata": {
        "colab": {
          "base_uri": "https://localhost:8080/"
        },
        "id": "zM4I8nIQfpai",
        "outputId": "6c369e8c-5950-4fbd-af02-f18aa21c207e"
      },
      "execution_count": 2,
      "outputs": [
        {
          "output_type": "stream",
          "name": "stdout",
          "text": [
            "Result structure: (array([1, 0, 3, 5, 4, 2]), 21.0293485853026, None)\n",
            "Best route found: [1 0 3 5 4 2]\n",
            "Total distance of best route: 21.0293485853026\n"
          ]
        }
      ]
    },
    {
      "cell_type": "code",
      "source": [
        "!pip install mlrose-hiive joblib\n",
        "!pip install --upgrade joblib\n",
        "!pip install joblib==1.1.0"
      ],
      "metadata": {
        "colab": {
          "base_uri": "https://localhost:8080/"
        },
        "id": "de-svSg4Zzv6",
        "outputId": "2ff76234-5e46-44c0-c7b1-6ed59ac5665b"
      },
      "execution_count": 1,
      "outputs": [
        {
          "output_type": "stream",
          "name": "stdout",
          "text": [
            "Requirement already satisfied: mlrose-hiive in /usr/local/lib/python3.10/dist-packages (2.2.4)\n",
            "Requirement already satisfied: joblib in /usr/local/lib/python3.10/dist-packages (1.1.0)\n",
            "Requirement already satisfied: numpy in /usr/local/lib/python3.10/dist-packages (from mlrose-hiive) (1.26.4)\n",
            "Requirement already satisfied: scipy in /usr/local/lib/python3.10/dist-packages (from mlrose-hiive) (1.13.1)\n",
            "Requirement already satisfied: scikit-learn in /usr/local/lib/python3.10/dist-packages (from mlrose-hiive) (1.1.3)\n",
            "Requirement already satisfied: pandas in /usr/local/lib/python3.10/dist-packages (from mlrose-hiive) (2.2.2)\n",
            "Requirement already satisfied: networkx in /usr/local/lib/python3.10/dist-packages (from mlrose-hiive) (3.4.2)\n",
            "Requirement already satisfied: python-dateutil>=2.8.2 in /usr/local/lib/python3.10/dist-packages (from pandas->mlrose-hiive) (2.8.2)\n",
            "Requirement already satisfied: pytz>=2020.1 in /usr/local/lib/python3.10/dist-packages (from pandas->mlrose-hiive) (2024.2)\n",
            "Requirement already satisfied: tzdata>=2022.7 in /usr/local/lib/python3.10/dist-packages (from pandas->mlrose-hiive) (2024.2)\n",
            "Requirement already satisfied: threadpoolctl>=2.0.0 in /usr/local/lib/python3.10/dist-packages (from scikit-learn->mlrose-hiive) (3.5.0)\n",
            "Requirement already satisfied: six>=1.5 in /usr/local/lib/python3.10/dist-packages (from python-dateutil>=2.8.2->pandas->mlrose-hiive) (1.16.0)\n",
            "Requirement already satisfied: joblib in /usr/local/lib/python3.10/dist-packages (1.1.0)\n",
            "Collecting joblib\n",
            "  Using cached joblib-1.4.2-py3-none-any.whl.metadata (5.4 kB)\n",
            "Using cached joblib-1.4.2-py3-none-any.whl (301 kB)\n",
            "Installing collected packages: joblib\n",
            "  Attempting uninstall: joblib\n",
            "    Found existing installation: joblib 1.1.0\n",
            "    Uninstalling joblib-1.1.0:\n",
            "      Successfully uninstalled joblib-1.1.0\n",
            "Successfully installed joblib-1.4.2\n",
            "Collecting joblib==1.1.0\n",
            "  Using cached joblib-1.1.0-py2.py3-none-any.whl.metadata (5.2 kB)\n",
            "Using cached joblib-1.1.0-py2.py3-none-any.whl (306 kB)\n",
            "Installing collected packages: joblib\n",
            "  Attempting uninstall: joblib\n",
            "    Found existing installation: joblib 1.4.2\n",
            "    Uninstalling joblib-1.4.2:\n",
            "      Successfully uninstalled joblib-1.4.2\n",
            "\u001b[31mERROR: pip's dependency resolver does not currently take into account all the packages that are installed. This behaviour is the source of the following dependency conflicts.\n",
            "imbalanced-learn 0.12.4 requires joblib>=1.1.1, but you have joblib 1.1.0 which is incompatible.\u001b[0m\u001b[31m\n",
            "\u001b[0mSuccessfully installed joblib-1.1.0\n"
          ]
        }
      ]
    }
  ]
}